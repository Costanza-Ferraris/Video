{
 "cells": [
  {
   "cell_type": "markdown",
   "id": "4d46eaeb",
   "metadata": {},
   "source": [
    "# Analisi dei prezzi di azioni "
   ]
  },
  {
   "cell_type": "markdown",
   "id": "81d8b024",
   "metadata": {},
   "source": [
    "Import delle librerie necessarie"
   ]
  },
  {
   "cell_type": "code",
   "execution_count": 1,
   "id": "fd697dde",
   "metadata": {},
   "outputs": [],
   "source": [
    "import pandas as pd\n",
    "import numpy as np\n",
    "import matplotlib.pyplot as plt\n",
    "import seaborn as sn\n",
    "plt.style.use('fivethirtyeight')\n",
    "\n",
    "from pandas_datareader import data as web\n",
    "from datetime import datetime"
   ]
  },
  {
   "cell_type": "markdown",
   "id": "06ff9b2f",
   "metadata": {},
   "source": [
    "Leggo i dati di interesse "
   ]
  },
  {
   "cell_type": "code",
   "execution_count": 2,
   "id": "1d4c6b54",
   "metadata": {},
   "outputs": [],
   "source": [
    "stock = pd.read_csv('stock.csv', index_col= 'Date')"
   ]
  },
  {
   "cell_type": "markdown",
   "id": "a3a67410",
   "metadata": {},
   "source": [
    "Visualizzazione tabellare dei dati: per ogni riga è riportato il prezzo di diverse azioni in una specifica data"
   ]
  },
  {
   "cell_type": "code",
   "execution_count": 3,
   "id": "dc2b9d83",
   "metadata": {},
   "outputs": [
    {
     "data": {
      "text/html": [
       "<div>\n",
       "<style scoped>\n",
       "    .dataframe tbody tr th:only-of-type {\n",
       "        vertical-align: middle;\n",
       "    }\n",
       "\n",
       "    .dataframe tbody tr th {\n",
       "        vertical-align: top;\n",
       "    }\n",
       "\n",
       "    .dataframe thead th {\n",
       "        text-align: right;\n",
       "    }\n",
       "</style>\n",
       "<table border=\"1\" class=\"dataframe\">\n",
       "  <thead>\n",
       "    <tr style=\"text-align: right;\">\n",
       "      <th></th>\n",
       "      <th>FB</th>\n",
       "      <th>AMZN</th>\n",
       "      <th>AAPL</th>\n",
       "      <th>NFLX</th>\n",
       "      <th>GOOG</th>\n",
       "    </tr>\n",
       "    <tr>\n",
       "      <th>Date</th>\n",
       "      <th></th>\n",
       "      <th></th>\n",
       "      <th></th>\n",
       "      <th></th>\n",
       "      <th></th>\n",
       "    </tr>\n",
       "  </thead>\n",
       "  <tbody>\n",
       "    <tr>\n",
       "      <th>2015-01-02</th>\n",
       "      <td>78.449997</td>\n",
       "      <td>308.519989</td>\n",
       "      <td>24.819241</td>\n",
       "      <td>49.848572</td>\n",
       "      <td>523.373108</td>\n",
       "    </tr>\n",
       "    <tr>\n",
       "      <th>2015-01-05</th>\n",
       "      <td>77.190002</td>\n",
       "      <td>302.190002</td>\n",
       "      <td>24.120045</td>\n",
       "      <td>47.311428</td>\n",
       "      <td>512.463013</td>\n",
       "    </tr>\n",
       "    <tr>\n",
       "      <th>2015-01-06</th>\n",
       "      <td>76.150002</td>\n",
       "      <td>295.290009</td>\n",
       "      <td>24.122320</td>\n",
       "      <td>46.501431</td>\n",
       "      <td>500.585632</td>\n",
       "    </tr>\n",
       "    <tr>\n",
       "      <th>2015-01-07</th>\n",
       "      <td>76.150002</td>\n",
       "      <td>298.420013</td>\n",
       "      <td>24.460564</td>\n",
       "      <td>46.742859</td>\n",
       "      <td>499.727997</td>\n",
       "    </tr>\n",
       "    <tr>\n",
       "      <th>2015-01-08</th>\n",
       "      <td>78.180000</td>\n",
       "      <td>300.459991</td>\n",
       "      <td>25.400398</td>\n",
       "      <td>47.779999</td>\n",
       "      <td>501.303680</td>\n",
       "    </tr>\n",
       "  </tbody>\n",
       "</table>\n",
       "</div>"
      ],
      "text/plain": [
       "                   FB        AMZN       AAPL       NFLX        GOOG\n",
       "Date                                                               \n",
       "2015-01-02  78.449997  308.519989  24.819241  49.848572  523.373108\n",
       "2015-01-05  77.190002  302.190002  24.120045  47.311428  512.463013\n",
       "2015-01-06  76.150002  295.290009  24.122320  46.501431  500.585632\n",
       "2015-01-07  76.150002  298.420013  24.460564  46.742859  499.727997\n",
       "2015-01-08  78.180000  300.459991  25.400398  47.779999  501.303680"
      ]
     },
     "execution_count": 3,
     "metadata": {},
     "output_type": "execute_result"
    }
   ],
   "source": [
    "stock.head()"
   ]
  },
  {
   "cell_type": "markdown",
   "id": "e1cc7e26",
   "metadata": {},
   "source": [
    "Valori delle statistiche di base per ognuna delle colonne"
   ]
  },
  {
   "cell_type": "code",
   "execution_count": 4,
   "id": "be2123b6",
   "metadata": {},
   "outputs": [
    {
     "data": {
      "text/html": [
       "<div>\n",
       "<style scoped>\n",
       "    .dataframe tbody tr th:only-of-type {\n",
       "        vertical-align: middle;\n",
       "    }\n",
       "\n",
       "    .dataframe tbody tr th {\n",
       "        vertical-align: top;\n",
       "    }\n",
       "\n",
       "    .dataframe thead th {\n",
       "        text-align: right;\n",
       "    }\n",
       "</style>\n",
       "<table border=\"1\" class=\"dataframe\">\n",
       "  <thead>\n",
       "    <tr style=\"text-align: right;\">\n",
       "      <th></th>\n",
       "      <th>FB</th>\n",
       "      <th>AMZN</th>\n",
       "      <th>AAPL</th>\n",
       "      <th>NFLX</th>\n",
       "      <th>GOOG</th>\n",
       "    </tr>\n",
       "  </thead>\n",
       "  <tbody>\n",
       "    <tr>\n",
       "      <th>count</th>\n",
       "      <td>1511.000000</td>\n",
       "      <td>1511.000000</td>\n",
       "      <td>1511.000000</td>\n",
       "      <td>1511.000000</td>\n",
       "      <td>1511.000000</td>\n",
       "    </tr>\n",
       "    <tr>\n",
       "      <th>mean</th>\n",
       "      <td>158.390265</td>\n",
       "      <td>1377.224282</td>\n",
       "      <td>46.605014</td>\n",
       "      <td>242.517075</td>\n",
       "      <td>1008.683518</td>\n",
       "    </tr>\n",
       "    <tr>\n",
       "      <th>std</th>\n",
       "      <td>51.216046</td>\n",
       "      <td>791.995557</td>\n",
       "      <td>25.572472</td>\n",
       "      <td>137.059678</td>\n",
       "      <td>307.515024</td>\n",
       "    </tr>\n",
       "    <tr>\n",
       "      <th>min</th>\n",
       "      <td>74.050003</td>\n",
       "      <td>286.950012</td>\n",
       "      <td>21.098566</td>\n",
       "      <td>45.547142</td>\n",
       "      <td>491.201416</td>\n",
       "    </tr>\n",
       "    <tr>\n",
       "      <th>25%</th>\n",
       "      <td>117.730000</td>\n",
       "      <td>727.875000</td>\n",
       "      <td>27.626856</td>\n",
       "      <td>110.114998</td>\n",
       "      <td>751.859985</td>\n",
       "    </tr>\n",
       "    <tr>\n",
       "      <th>50%</th>\n",
       "      <td>162.279999</td>\n",
       "      <td>1195.829956</td>\n",
       "      <td>39.878925</td>\n",
       "      <td>202.679993</td>\n",
       "      <td>1028.709961</td>\n",
       "    </tr>\n",
       "    <tr>\n",
       "      <th>75%</th>\n",
       "      <td>186.945000</td>\n",
       "      <td>1829.619995</td>\n",
       "      <td>52.474380</td>\n",
       "      <td>353.384995</td>\n",
       "      <td>1197.125000</td>\n",
       "    </tr>\n",
       "    <tr>\n",
       "      <th>max</th>\n",
       "      <td>303.910004</td>\n",
       "      <td>3531.449951</td>\n",
       "      <td>136.254608</td>\n",
       "      <td>556.549988</td>\n",
       "      <td>1827.989990</td>\n",
       "    </tr>\n",
       "  </tbody>\n",
       "</table>\n",
       "</div>"
      ],
      "text/plain": [
       "                FB         AMZN         AAPL         NFLX         GOOG\n",
       "count  1511.000000  1511.000000  1511.000000  1511.000000  1511.000000\n",
       "mean    158.390265  1377.224282    46.605014   242.517075  1008.683518\n",
       "std      51.216046   791.995557    25.572472   137.059678   307.515024\n",
       "min      74.050003   286.950012    21.098566    45.547142   491.201416\n",
       "25%     117.730000   727.875000    27.626856   110.114998   751.859985\n",
       "50%     162.279999  1195.829956    39.878925   202.679993  1028.709961\n",
       "75%     186.945000  1829.619995    52.474380   353.384995  1197.125000\n",
       "max     303.910004  3531.449951   136.254608   556.549988  1827.989990"
      ]
     },
     "execution_count": 4,
     "metadata": {},
     "output_type": "execute_result"
    }
   ],
   "source": [
    "stock.describe()"
   ]
  },
  {
   "cell_type": "code",
   "execution_count": null,
   "id": "ba5afd15",
   "metadata": {},
   "outputs": [],
   "source": [
    "plt.figure(figsize=(10,5))\n",
    "for c in stock.columns.values:\n",
    "    plt.plot(stock[c], label =c)\n",
    "\n",
    "\n",
    "title = 'Prezzo Asset in Portafoglio'\n",
    "\n",
    "plt.title(title)\n",
    "plt.xlabel('Data', fontsize = 18)\n",
    "plt.ylabel('Prezzo ($)', fontsize = 18)\n",
    "plt.legend(stock.columns.values, loc = 'upper left')\n",
    "plt.xticks([])\n",
    "\n",
    "plt.show()"
   ]
  },
  {
   "cell_type": "markdown",
   "id": "f18baab9",
   "metadata": {},
   "source": [
    "Calcolo i returns dei prezzi"
   ]
  },
  {
   "cell_type": "code",
   "execution_count": null,
   "id": "d0423b43",
   "metadata": {},
   "outputs": [],
   "source": [
    "returns = stock.pct_change().dropna()\n",
    "returns.head()"
   ]
  },
  {
   "cell_type": "markdown",
   "id": "19b70b1b",
   "metadata": {},
   "source": [
    "Distribuzione dei returns"
   ]
  },
  {
   "cell_type": "code",
   "execution_count": null,
   "id": "71cc0c5f",
   "metadata": {},
   "outputs": [],
   "source": [
    "sn.displot(returns, bins=50)\n",
    "plt.xlim(-0.10, 0.10)"
   ]
  },
  {
   "cell_type": "markdown",
   "id": "e6aca7d7",
   "metadata": {},
   "source": [
    "Matrice di Covarianza"
   ]
  },
  {
   "cell_type": "code",
   "execution_count": null,
   "id": "779a9a72",
   "metadata": {},
   "outputs": [],
   "source": [
    "cov_matrix_annual = returns.cov()*252 # NB: 252 è il numero medio di giorni di contrattazione in 1 Anno\n",
    "sn.heatmap(round(cov_matrix_annual,2), annot=True, fmt='g')\n",
    "plt.title('Matrice di Covarianza')\n",
    "plt.show()"
   ]
  },
  {
   "cell_type": "code",
   "execution_count": null,
   "id": "aff1c6e9",
   "metadata": {},
   "outputs": [],
   "source": []
  }
 ],
 "metadata": {
  "kernelspec": {
   "display_name": "Python 3",
   "language": "python",
   "name": "python3"
  },
  "language_info": {
   "codemirror_mode": {
    "name": "ipython",
    "version": 3
   },
   "file_extension": ".py",
   "mimetype": "text/x-python",
   "name": "python",
   "nbconvert_exporter": "python",
   "pygments_lexer": "ipython3",
   "version": "3.8.8"
  }
 },
 "nbformat": 4,
 "nbformat_minor": 5
}
